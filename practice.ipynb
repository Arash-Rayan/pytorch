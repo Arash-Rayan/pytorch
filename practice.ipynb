{
 "cells": [
  {
   "cell_type": "code",
   "execution_count": 2,
   "id": "015957f5",
   "metadata": {},
   "outputs": [],
   "source": [
    "import torch\n",
    "from torch import nn \n",
    "import matplotlib.pyplot as plt \n",
    "import pandas as pd \n"
   ]
  },
  {
   "cell_type": "code",
   "execution_count": 3,
   "id": "545ce9b9",
   "metadata": {},
   "outputs": [
    {
     "name": "stdout",
     "output_type": "stream",
     "text": [
      "using device cpu\n"
     ]
    }
   ],
   "source": [
    "device = 'cuda' if torch.cuda.is_available() else 'cpu'\n",
    "print(f'using device {device}')"
   ]
  },
  {
   "cell_type": "code",
   "execution_count": 4,
   "id": "a19d6af3",
   "metadata": {},
   "outputs": [
    {
     "data": {
      "text/html": [
       "<div>\n",
       "<style scoped>\n",
       "    .dataframe tbody tr th:only-of-type {\n",
       "        vertical-align: middle;\n",
       "    }\n",
       "\n",
       "    .dataframe tbody tr th {\n",
       "        vertical-align: top;\n",
       "    }\n",
       "\n",
       "    .dataframe thead th {\n",
       "        text-align: right;\n",
       "    }\n",
       "</style>\n",
       "<table border=\"1\" class=\"dataframe\">\n",
       "  <thead>\n",
       "    <tr style=\"text-align: right;\">\n",
       "      <th></th>\n",
       "      <th>feature 0</th>\n",
       "      <th>target</th>\n",
       "    </tr>\n",
       "  </thead>\n",
       "  <tbody>\n",
       "    <tr>\n",
       "      <th>0</th>\n",
       "      <td>-0.057273</td>\n",
       "      <td>-13.718333</td>\n",
       "    </tr>\n",
       "    <tr>\n",
       "      <th>1</th>\n",
       "      <td>-0.604540</td>\n",
       "      <td>-59.955861</td>\n",
       "    </tr>\n",
       "    <tr>\n",
       "      <th>2</th>\n",
       "      <td>-2.708222</td>\n",
       "      <td>-267.085804</td>\n",
       "    </tr>\n",
       "    <tr>\n",
       "      <th>3</th>\n",
       "      <td>-0.605667</td>\n",
       "      <td>-64.283641</td>\n",
       "    </tr>\n",
       "    <tr>\n",
       "      <th>4</th>\n",
       "      <td>-1.032312</td>\n",
       "      <td>-84.483877</td>\n",
       "    </tr>\n",
       "  </tbody>\n",
       "</table>\n",
       "</div>"
      ],
      "text/plain": [
       "   feature 0      target\n",
       "0  -0.057273  -13.718333\n",
       "1  -0.604540  -59.955861\n",
       "2  -2.708222 -267.085804\n",
       "3  -0.605667  -64.283641\n",
       "4  -1.032312  -84.483877"
      ]
     },
     "execution_count": 4,
     "metadata": {},
     "output_type": "execute_result"
    }
   ],
   "source": [
    "from sklearn.datasets import make_regression  \n",
    "train , target = make_regression(n_samples=100 , n_features=1 ,n_targets=1 , noise=10)\n",
    "\n",
    "train_df = pd.DataFrame(train , columns=[f'feature {i}' for i in range(train.shape[1])])\n",
    "target_df = pd.DataFrame(target , columns=['target'])\n",
    "\n",
    "df = pd.concat([train_df,  target_df], axis=1)\n",
    "df.head()\n"
   ]
  },
  {
   "cell_type": "code",
   "execution_count": 5,
   "id": "541567d2",
   "metadata": {},
   "outputs": [],
   "source": [
    "from sklearn.model_selection import train_test_split\n",
    "import numpy as np  \n",
    "xtrain, xtest , ytrain , ytest = train_test_split(train , target, test_size=0.2)\n",
    "ytrain, ytest = np.expand_dims(ytrain , -1), np.expand_dims(ytest, -1)"
   ]
  },
  {
   "cell_type": "code",
   "execution_count": 6,
   "id": "638fb627",
   "metadata": {},
   "outputs": [
    {
     "data": {
      "text/plain": [
       "((80, 1), (20, 1), (80, 1), (20, 1))"
      ]
     },
     "execution_count": 6,
     "metadata": {},
     "output_type": "execute_result"
    }
   ],
   "source": [
    "xtrain.shape , xtest.shape , ytrain.shape , ytest.shape"
   ]
  },
  {
   "cell_type": "code",
   "execution_count": 8,
   "id": "f5710d6d",
   "metadata": {},
   "outputs": [],
   "source": [
    "from sklearn.preprocessing import MinMaxScaler\n",
    "def normalize_data(data, target):\n",
    "    xscaler = MinMaxScaler()\n",
    "    yscaler = MinMaxScaler()\n",
    "    return xscaler.fit_transform(data), yscaler.fit_transform(target)\n",
    "\n",
    "xtrain, ytrain = normalize_data(xtrain, ytrain)\n",
    "xtest, ytest = normalize_data(xtest, ytest)\n"
   ]
  },
  {
   "cell_type": "code",
   "execution_count": 9,
   "id": "36be1fb3",
   "metadata": {},
   "outputs": [
    {
     "data": {
      "text/plain": [
       "OrderedDict([('linear_layer.weight', tensor([[-0.9327]])),\n",
       "             ('linear_layer.bias', tensor([-0.1975]))])"
      ]
     },
     "execution_count": 9,
     "metadata": {},
     "output_type": "execute_result"
    }
   ],
   "source": [
    "class LinearRegression(nn.Module): \n",
    "    def __init__(self): \n",
    "        super().__init__()\n",
    "        self.linear_layer = nn.Linear(in_features=1 , out_features=1)\n",
    "\n",
    "    def forward(self, x:torch.tensor) ->torch.tensor: \n",
    "        return self.linear_layer(x)\n",
    "    \n",
    "\n",
    "model = LinearRegression()\n",
    "model.state_dict() \n",
    "        "
   ]
  },
  {
   "cell_type": "code",
   "execution_count": 10,
   "id": "ca8195ef",
   "metadata": {},
   "outputs": [],
   "source": [
    "lossfn = nn.L1Loss()\n",
    "optimizer = torch.optim.SGD(params=model.parameters()  , lr=1e-2)"
   ]
  },
  {
   "cell_type": "code",
   "execution_count": 11,
   "id": "f2673639",
   "metadata": {},
   "outputs": [],
   "source": [
    "xtrain = torch.from_numpy(xtrain).float()\n",
    "xtest  = torch.from_numpy(xtest).float()\n",
    "ytrain = torch.from_numpy(ytrain).float()\n",
    "ytest  = torch.from_numpy(ytest).float()\n"
   ]
  },
  {
   "cell_type": "code",
   "execution_count": 12,
   "id": "a84fbebe",
   "metadata": {},
   "outputs": [
    {
     "data": {
      "text/plain": [
       "(torch.Size([80, 1]),\n",
       " torch.Size([20, 1]),\n",
       " torch.Size([80, 1]),\n",
       " torch.Size([20, 1]))"
      ]
     },
     "execution_count": 12,
     "metadata": {},
     "output_type": "execute_result"
    }
   ],
   "source": [
    "xtrain.shape , xtest.shape , ytrain.shape , ytest.shape"
   ]
  },
  {
   "cell_type": "code",
   "execution_count": 52,
   "id": "dd31553a",
   "metadata": {},
   "outputs": [],
   "source": [
    "epoches = 400 \n",
    "epochs_list = []\n",
    "mae_list = [] \n",
    "unseen_mae_list = []\n",
    "\n",
    "\n",
    "\n",
    "for i in range(epoches):\n",
    "    model.train()\n",
    "    ypred = model(xtrain)\n",
    "    loss = lossfn(ypred , ytrain)\n",
    "    optimizer.zero_grad()\n",
    "    loss.backward()\n",
    "    optimizer.step()\n",
    "\n",
    "    #testing \n",
    "    model.eval()\n",
    "    with torch.inference_mode():\n",
    "        unseen_pred = model(xtest)\n",
    "        unseen_loss = lossfn(unseen_pred , ytest)\n",
    "\n",
    "        if i % 10 == 0 :\n",
    "            epochs_list.append(i)\n",
    "            unseen_mae_list.append(unseen_loss.item())\n",
    "            mae_list.append(loss.item())\n",
    "\n",
    "\n",
    "\n"
   ]
  },
  {
   "cell_type": "markdown",
   "id": "0fa4c815",
   "metadata": {},
   "source": [
    "## drawing performance chart"
   ]
  },
  {
   "cell_type": "code",
   "execution_count": 53,
   "id": "4d25dda5",
   "metadata": {},
   "outputs": [
    {
     "data": {
      "text/plain": [
       "[<matplotlib.lines.Line2D at 0x2102f7dc3e0>]"
      ]
     },
     "execution_count": 53,
     "metadata": {},
     "output_type": "execute_result"
    },
    {
     "data": {
      "image/png": "[encoded data removed]",
      "text/plain": [
       "<Figure size 500x500 with 1 Axes>"
      ]
     },
     "metadata": {},
     "output_type": "display_data"
    }
   ],
   "source": [
    "fig , axes = plt.subplots(figsize = (5, 5))\n",
    "axes.plot(epochs_list , mae_list, color='blue')\n",
    "axes.plot(epochs_list, unseen_mae_list, color='magenta')"
   ]
  },
  {
   "cell_type": "code",
   "execution_count": 56,
   "id": "8aa12b5e",
   "metadata": {},
   "outputs": [],
   "source": [
    "ypred = model(xtest).detach()"
   ]
  },
  {
   "cell_type": "code",
   "execution_count": 55,
   "id": "807c2fe0",
   "metadata": {},
   "outputs": [
    {
     "data": {
      "text/plain": [
       "<matplotlib.legend.Legend at 0x2102efa8770>"
      ]
     },
     "execution_count": 55,
     "metadata": {},
     "output_type": "execute_result"
    },
    {
     "data": {
      "image/png": "[encoded data removed]",
      "text/plain": [
       "<Figure size 1000x500 with 1 Axes>"
      ]
     },
     "metadata": {},
     "output_type": "display_data"
    }
   ],
   "source": [
    "fig ,axes = plt.subplots(figsize = (10 ,5))\n",
    "axes.scatter(ytest , ytest , color='green' , label ='real data')\n",
    "axes.scatter(ytest , ypred , color='red' , label='prediction')\n",
    "axes.legend()"
   ]
  },
  {
   "cell_type": "code",
   "execution_count": null,
   "id": "f0945a88",
   "metadata": {},
   "outputs": [],
   "source": [
    "\n"
   ]
  }
 ],
 "metadata": {
  "kernelspec": {
   "display_name": "venv",
   "language": "python",
   "name": "python3"
  },
  "language_info": {
   "codemirror_mode": {
    "name": "ipython",
    "version": 3
   },
   "file_extension": ".py",
   "mimetype": "text/x-python",
   "name": "python",
   "nbconvert_exporter": "python",
   "pygments_lexer": "ipython3",
   "version": "3.12.2"
  }
 },
 "nbformat": 4,
 "nbformat_minor": 5
}
